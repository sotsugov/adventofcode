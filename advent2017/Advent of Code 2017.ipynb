{
 "cells": [
  {
   "cell_type": "markdown",
   "metadata": {},
   "source": [
    "#### Table of contents\n",
    "* [Day 1: Inverse Captcha](#----Day-1:-Inverse-Captcha----)\n",
    "* [Day 2: Corruption Checksum](#----Day-2:-Corruption-Checksum----)"
   ]
  },
  {
   "cell_type": "markdown",
   "metadata": {},
   "source": [
    "Let's prepare some imports and helper function, that will allow us later to work with common problems."
   ]
  },
  {
   "cell_type": "code",
   "execution_count": 85,
   "metadata": {},
   "outputs": [],
   "source": [
    "# Python 3.x\n",
    "from itertools import combinations, permutations\n",
    "\n",
    "def _input(day):\n",
    "    \"Open this day's input file.\"\n",
    "    filename = 'data/input{}.txt'.format(day)\n",
    "    return open(filename)\n",
    "\n",
    "def mapt(fn, *args): \n",
    "    \"Do a map, and make the results into a tuple.\"\n",
    "    return tuple(map(fn, *args))"
   ]
  },
  {
   "cell_type": "markdown",
   "metadata": {},
   "source": [
    "### --- Day 1: Inverse Captcha ---\n",
    "The captcha requires you to review a sequence of digits (your puzzle input) and find the sum of all digits that match the next digit in the list. The list is circular, so the digit after the last digit is the first digit in the list.\n",
    "\n",
    "\n",
    "For example:\n",
    "\n",
    "    1122 produces a sum of 3 (1 + 2) because the first digit (1) matches the second digit and the third digit (2) matches the fourth digit.\n",
    "    1111 produces 4 because each digit (all 1) matches the next.\n",
    "    1234 produces 0 because no digit matches the next.\n",
    "    91212129 produces 9 because the only digit that matches the next one is the last digit, 9.\n"
   ]
  },
  {
   "cell_type": "markdown",
   "metadata": {},
   "source": [
    "Initially, I attempted to look at the list as something we need to rotate and iterate through. It became increasingly difficult for corner cases e.g. to address the 91212129 (9) case because the only digit that matches the next one is the last digit, 9. I spent way too much time overthinking it, when I should have re-focused and thought about the remainder and modulo in the beginning."
   ]
  },
  {
   "cell_type": "code",
   "execution_count": 2,
   "metadata": {},
   "outputs": [
    {
     "name": "stdout",
     "output_type": "stream",
     "text": [
      "91212129 8\n",
      "counter: 0, number: 9, next: 1, same as prev: False\n",
      "counter: 1, number: 1, next: 2, same as prev: False\n",
      "counter: 2, number: 2, next: 1, same as prev: False\n",
      "counter: 3, number: 1, next: 2, same as prev: False\n",
      "counter: 4, number: 2, next: 1, same as prev: False\n",
      "counter: 5, number: 1, next: 2, same as prev: False\n",
      "counter: 6, number: 2, next: 9, same as prev: False\n",
      "counter: 7, number: 9, next: 9, same as prev: True\n",
      "9\n"
     ]
    }
   ],
   "source": [
    "array = '91212129'\n",
    "chars = len(array)\n",
    "print(array, chars)\n",
    "\n",
    "res = []\n",
    "for c, n in enumerate(array):\n",
    "    # The % (modulo) operator yields the remainder from the division of the first argument by the second. \n",
    "    # So in case where `array[(c + 1) % chars]` is the last char, `array[(7+1)%8]` will yield 0 because \n",
    "    # there is no remainder, which means we've reached the end of the list. This will get us the \n",
    "    # first element in the array, `array[0]` as if starting iteration from the first one.\n",
    "    print(\"counter: {}, number: {}, next: {}, same as prev: {}\".format(\n",
    "        c, n, array[(c + 1) % chars], n == array[(c + 1) % chars]))\n",
    "    if n == array[(c + 1) % chars]:\n",
    "        res.append(int(n))\n",
    "\n",
    "print(sum(res))"
   ]
  },
  {
   "cell_type": "markdown",
   "metadata": {},
   "source": [
    "Now let's simplify and run the above solution through the example cases and a few custom ones."
   ]
  },
  {
   "cell_type": "code",
   "execution_count": 3,
   "metadata": {},
   "outputs": [],
   "source": [
    "def inverse_captcha(array): \n",
    "    return sum(int(n) for c, n in enumerate(array) if n == array[(c + 1) % len(array)])\n",
    "\n",
    "assert inverse_captcha('1122') == 3\n",
    "assert inverse_captcha('1111') == 4\n",
    "assert inverse_captcha('1234') == 0\n",
    "assert inverse_captcha('91212129') == 9\n",
    "assert inverse_captcha('08798780') == 0\n",
    "assert inverse_captcha('3335553') == 19\n",
    "assert inverse_captcha('3' * 10) == 30\n",
    "assert inverse_captcha('1' * 10 + '7' * 130 + '5' * 25 ) == 1032"
   ]
  },
  {
   "cell_type": "markdown",
   "metadata": {},
   "source": [
    "Now let's run it for for the input:"
   ]
  },
  {
   "cell_type": "code",
   "execution_count": 83,
   "metadata": {},
   "outputs": [
    {
     "name": "stdout",
     "output_type": "stream",
     "text": [
      "1175\n"
     ]
    }
   ],
   "source": [
    "input_array = _input(1).read().strip()\n",
    "print(inverse_captcha(input_array))"
   ]
  },
  {
   "cell_type": "markdown",
   "metadata": {},
   "source": [
    "#### --- Part Two ---\n",
    "Now, instead of considering the next digit, it wants you to consider the digit halfway around the circular list. That is, if your list contains 10 items, only include a digit in your sum if the digit 10/2 = 5 steps forward matches it. Fortunately, your list has an even number of elements.\n",
    "\n",
    "For example:\n",
    "\n",
    "    1212 produces 6: the list contains 4 items, and all four digits match the digit 2 items ahead.\n",
    "    1221 produces 0, because every comparison is between a 1 and a 2.\n",
    "    123425 produces 4, because both 2s match each other, but no other digit has a match.\n",
    "    123123 produces 12.\n",
    "    12131415 produces 4."
   ]
  },
  {
   "cell_type": "markdown",
   "metadata": {},
   "source": [
    "Here, we only need to modify the `array[(c + 1) % len(array)]` part to include slicing list by half, such that it yields the remainder in the same way it did above. So the array part becomes ``array[(c + len(array) // 2) % len(array)]``"
   ]
  },
  {
   "cell_type": "code",
   "execution_count": 5,
   "metadata": {},
   "outputs": [
    {
     "data": {
      "text/plain": [
       "12"
      ]
     },
     "execution_count": 5,
     "metadata": {},
     "output_type": "execute_result"
    }
   ],
   "source": [
    "array = '123123'\n",
    "\n",
    "sum(int(n) for c, n in enumerate(array) if n == array[(c + len(array) // 2) % len(array)])"
   ]
  },
  {
   "cell_type": "markdown",
   "metadata": {},
   "source": [
    "Let's run it through the tests again. Before we'll try the function on the problem's input."
   ]
  },
  {
   "cell_type": "code",
   "execution_count": 6,
   "metadata": {},
   "outputs": [],
   "source": [
    "def inverse_captcha_2(array): \n",
    "    return sum(int(n) for c, n in enumerate(array) if n == array[(c + len(array) // 2) % len(array)])\n",
    "\n",
    "assert inverse_captcha_2('1212') == 6\n",
    "assert inverse_captcha_2('1221') == 0\n",
    "assert inverse_captcha_2('123425') == 4\n",
    "assert inverse_captcha_2('123123') == 12\n",
    "assert inverse_captcha_2('123425') == 4\n",
    "assert inverse_captcha_2('66' * 3 + '123' + '66' * 3) == 54"
   ]
  },
  {
   "cell_type": "code",
   "execution_count": 7,
   "metadata": {},
   "outputs": [
    {
     "data": {
      "text/plain": [
       "1166"
      ]
     },
     "execution_count": 7,
     "metadata": {},
     "output_type": "execute_result"
    }
   ],
   "source": [
    "inverse_captcha_2(input_array)"
   ]
  },
  {
   "cell_type": "markdown",
   "metadata": {},
   "source": [
    "### --- Day 2: Corruption Checksum ---\n",
    "\n",
    "The spreadsheet consists of rows of apparently-random numbers. To make sure the recovery process is on the right track, they need you to calculate the spreadsheet's checksum. For each row, determine the difference between the largest value and the smallest value; the checksum is the sum of all of these differences.\n",
    "\n",
    "For example, given the following spreadsheet:\n",
    "\n",
    "```\n",
    "5 1 9 5\n",
    "7 5 3 \n",
    "2 4 6 8\n",
    "```\n",
    "\n",
    "    The first row's largest and smallest values are 9 and 1, and their difference is 8.\n",
    "    The second row's largest and smallest values are 7 and 3, and their difference is 4.\n",
    "    The third row's difference is 6.\n",
    "\n",
    "In this example, the spreadsheet's checksum would be 8 + 4 + 6 = 18.\n"
   ]
  },
  {
   "cell_type": "code",
   "execution_count": 8,
   "metadata": {},
   "outputs": [
    {
     "name": "stdout",
     "output_type": "stream",
     "text": [
      "[['5', '1', '9', '5'], ['7', '5', '3'], ['2', '4', '6', '8']]\n"
     ]
    }
   ],
   "source": [
    "lines = [l.split() for l in _input('2sample').readlines()]\n",
    "print(lines)"
   ]
  },
  {
   "cell_type": "code",
   "execution_count": 9,
   "metadata": {},
   "outputs": [
    {
     "name": "stdout",
     "output_type": "stream",
     "text": [
      "max: 9, min: 1, dif: 8, line ['5', '1', '9', '5']\n",
      "max: 7, min: 3, dif: 4, line ['7', '5', '3']\n",
      "max: 8, min: 2, dif: 6, line ['2', '4', '6', '8']\n"
     ]
    }
   ],
   "source": [
    "for line in lines:\n",
    "    print(\"max: {}, min: {}, dif: {}, line {}\".format(\n",
    "        max(line), min(line), int(max(line))-int(min(line)), line))"
   ]
  },
  {
   "cell_type": "code",
   "execution_count": 10,
   "metadata": {},
   "outputs": [
    {
     "data": {
      "text/plain": [
       "18"
      ]
     },
     "execution_count": 10,
     "metadata": {},
     "output_type": "execute_result"
    }
   ],
   "source": [
    "sum(int(max(line)) - int(min(line)) for line in lines)"
   ]
  },
  {
   "cell_type": "code",
   "execution_count": 11,
   "metadata": {},
   "outputs": [
    {
     "name": "stdout",
     "output_type": "stream",
     "text": [
      "[['1364', '461', '1438', '1456', '818', '999', '105', '1065', '314', '99', '1353', '148', '837', '590', '404', '123'], ['204', '99', '235', '2281', '2848', '3307', '1447', '3848', '3681', '963', '3525', '525', '288', '278', '3059', '821'], ['280', '311', '100', '287', '265', '383', '204', '380', '90', '377', '398', '99', '194', '297', '399', '87'], ['7698', '2334', '7693', '218', '7344', '3887', '3423', '7287', '7700', '2447', '7412', '6147', '231', '1066', '248', '208'], ['3740', '837', '4144', '123', '155', '2494', '1706', '4150', '183', '4198', '1221', '4061', '95', '148', '3460', '550'], ['1376', '1462', '73', '968', '95', '1721', '544', '982', '829', '1868', '1683', '618', '82', '1660', '83', '1778'], ['197', '2295', '5475', '2886', '2646', '186', '5925', '237', '3034', '5897', '1477', '196', '1778', '3496', '5041', '3314'], ['179', '2949', '3197', '2745', '1341', '3128', '1580', '184', '1026', '147', '2692', '212', '2487', '2947', '3547', '1120'], ['460', '73', '52', '373', '41', '133', '671', '61', '634', '62', '715', '644', '182', '524', '648', '320'], ['169', '207', '5529', '4820', '248', '6210', '255', '6342', '4366', '5775', '5472', '3954', '3791', '1311', '7074', '5729'], ['5965', '7445', '2317', '196', '1886', '3638', '266', '6068', '6179', '6333', '229', '230', '1791', '6900', '3108', '5827'], ['212', '249', '226', '129', '196', '245', '187', '332', '111', '126', '184', '99', '276', '93', '222', '56'], ['51', '592', '426', '66', '594', '406', '577', '25', '265', '578', '522', '57', '547', '65', '564', '622'], ['215', '2092', '1603', '1001', '940', '2054', '245', '2685', '206', '1043', '2808', '208', '194', '2339', '2028', '2580'], ['378', '171', '155', '1100', '184', '937', '792', '1436', '1734', '179', '1611', '1349', '647', '1778', '1723', '1709'], ['4463', '4757', '201', '186', '3812', '2413', '2085', '4685', '5294', '5755', '2898', '200', '5536', '5226', '1028', '180']]\n"
     ]
    }
   ],
   "source": [
    "input_lines = [i.split() for i in _input(2).readlines()]\n",
    "print(input_lines)"
   ]
  },
  {
   "cell_type": "code",
   "execution_count": 12,
   "metadata": {},
   "outputs": [
    {
     "data": {
      "text/plain": [
       "27517"
      ]
     },
     "execution_count": 12,
     "metadata": {},
     "output_type": "execute_result"
    }
   ],
   "source": [
    "sum(int(max(line)) - int(min(line)) for line in input_lines)"
   ]
  },
  {
   "cell_type": "markdown",
   "metadata": {},
   "source": [
    "Looks like the answer is not quite right. Let's run some tests and try to investigate."
   ]
  },
  {
   "cell_type": "code",
   "execution_count": 13,
   "metadata": {},
   "outputs": [
    {
     "name": "stdout",
     "output_type": "stream",
     "text": [
      "max: 999, min: 105, dif: 894, line ['1364', '461', '1438', '1456', '818', '999', '105', '1065', '314', '99', '1353', '148', '837', '590', '404', '123']\n",
      "max: 99, min: 1447, dif: -1348, line ['204', '99', '235', '2281', '2848', '3307', '1447', '3848', '3681', '963', '3525', '525', '288', '278', '3059', '821']\n",
      "max: 99, min: 100, dif: -1, line ['280', '311', '100', '287', '265', '383', '204', '380', '90', '377', '398', '99', '194', '297', '399', '87']\n",
      "max: 7700, min: 1066, dif: 6634, line ['7698', '2334', '7693', '218', '7344', '3887', '3423', '7287', '7700', '2447', '7412', '6147', '231', '1066', '248', '208']\n",
      "max: 95, min: 1221, dif: -1126, line ['3740', '837', '4144', '123', '155', '2494', '1706', '4150', '183', '4198', '1221', '4061', '95', '148', '3460', '550']\n",
      "max: 982, min: 1376, dif: -394, line ['1376', '1462', '73', '968', '95', '1721', '544', '982', '829', '1868', '1683', '618', '82', '1660', '83', '1778']\n",
      "max: 5925, min: 1477, dif: 4448, line ['197', '2295', '5475', '2886', '2646', '186', '5925', '237', '3034', '5897', '1477', '196', '1778', '3496', '5041', '3314']\n",
      "max: 3547, min: 1026, dif: 2521, line ['179', '2949', '3197', '2745', '1341', '3128', '1580', '184', '1026', '147', '2692', '212', '2487', '2947', '3547', '1120']\n",
      "max: 73, min: 133, dif: -60, line ['460', '73', '52', '373', '41', '133', '671', '61', '634', '62', '715', '644', '182', '524', '648', '320']\n",
      "max: 7074, min: 1311, dif: 5763, line ['169', '207', '5529', '4820', '248', '6210', '255', '6342', '4366', '5775', '5472', '3954', '3791', '1311', '7074', '5729']\n",
      "max: 7445, min: 1791, dif: 5654, line ['5965', '7445', '2317', '196', '1886', '3638', '266', '6068', '6179', '6333', '229', '230', '1791', '6900', '3108', '5827']\n",
      "max: 99, min: 111, dif: -12, line ['212', '249', '226', '129', '196', '245', '187', '332', '111', '126', '184', '99', '276', '93', '222', '56']\n",
      "max: 66, min: 25, dif: 41, line ['51', '592', '426', '66', '594', '406', '577', '25', '265', '578', '522', '57', '547', '65', '564', '622']\n",
      "max: 940, min: 1001, dif: -61, line ['215', '2092', '1603', '1001', '940', '2054', '245', '2685', '206', '1043', '2808', '208', '194', '2339', '2028', '2580']\n",
      "max: 937, min: 1100, dif: -163, line ['378', '171', '155', '1100', '184', '937', '792', '1436', '1734', '179', '1611', '1349', '647', '1778', '1723', '1709']\n",
      "max: 5755, min: 1028, dif: 4727, line ['4463', '4757', '201', '186', '3812', '2413', '2085', '4685', '5294', '5755', '2898', '200', '5536', '5226', '1028', '180']\n"
     ]
    }
   ],
   "source": [
    "for line in input_lines:\n",
    "    print(\"max: {}, min: {}, dif: {}, line {}\".format(\n",
    "        max(line), min(line), int(max(line))-int(min(line)), line))"
   ]
  },
  {
   "cell_type": "markdown",
   "metadata": {},
   "source": [
    "Looks like from the first line the `max()` is wrong. It's returning `max: 999` where in line there are numbers over thousand: `['1364', '461', '1438', '1456', '818', '999', '105', '1065', '314', '99', '1353', '148', '837', '590', '404', '123']`"
   ]
  },
  {
   "cell_type": "code",
   "execution_count": 14,
   "metadata": {},
   "outputs": [
    {
     "data": {
      "text/plain": [
       "'999'"
      ]
     },
     "execution_count": 14,
     "metadata": {},
     "output_type": "execute_result"
    }
   ],
   "source": [
    "max(['1364', '461', '1438', '1456', '818', '999', '105', '1065', \n",
    "     '314', '99', '1353', '148', '837', '590', '404', '123']) "
   ]
  },
  {
   "cell_type": "code",
   "execution_count": 15,
   "metadata": {},
   "outputs": [
    {
     "data": {
      "text/plain": [
       "'1456'"
      ]
     },
     "execution_count": 15,
     "metadata": {},
     "output_type": "execute_result"
    }
   ],
   "source": [
    "# The optional key argument specifies a one-argument ordering function like that used for list.sort()\n",
    "# To address the above case, we need to think of list items as numbers, \n",
    "# by providing key to max function as int will return the correct maximum result.\n",
    "max(['1364', '461', '1438', '1456', '818', '999', '105', '1065', \n",
    "     '314', '99', '1353', '148', '837', '590', '404', '123'], key=int) "
   ]
  },
  {
   "cell_type": "markdown",
   "metadata": {},
   "source": [
    "Now, let's run some tests:"
   ]
  },
  {
   "cell_type": "code",
   "execution_count": 16,
   "metadata": {},
   "outputs": [],
   "source": [
    "def corruption_checksum(lines):\n",
    "    return sum(int(max(line, key=int)) - int(min(line, key=int)) for line in lines)\n",
    "\n",
    "assert corruption_checksum([['5', '1', '9', '5']]) == 8\n",
    "assert corruption_checksum([['1364', '999', '123']]) == 1241\n",
    "assert corruption_checksum([['5', '1', '9', '5'], ['7', '5', '3'], ['2', '4', '6', '8']]) == 18\n",
    "assert corruption_checksum([['204', '99', '235', '2281', '2848', '3307']]) == 3208"
   ]
  },
  {
   "cell_type": "markdown",
   "metadata": {},
   "source": [
    "So we can either cast all elements of the list into numbers, or use the key in max set to int."
   ]
  },
  {
   "cell_type": "code",
   "execution_count": 17,
   "metadata": {},
   "outputs": [
    {
     "data": {
      "text/plain": [
       "53460"
      ]
     },
     "execution_count": 17,
     "metadata": {},
     "output_type": "execute_result"
    }
   ],
   "source": [
    "corruption_checksum(input_lines)"
   ]
  },
  {
   "cell_type": "markdown",
   "metadata": {},
   "source": [
    "#### --- Part Two ---\n",
    "It sounds like the goal is to find the only two numbers in each row where one evenly divides the other - that is, where the result of the division operation is a whole number. They would like you to find those numbers on each line, divide them, and add up each line's result.\n",
    "\n",
    "For example, given the following spreadsheet:\n",
    "```\n",
    "5 9 2 8\n",
    "9 4 7 3\n",
    "3 8 6 5\n",
    "```\n",
    "    In the first row, the only two numbers that evenly divide are 8 and 2; the result of this division is 4.\n",
    "    In the second row, the two numbers are 9 and 3; the result is 3.\n",
    "    In the third row, the result is 2.\n",
    "\n",
    "In this example, the sum of the results would be 4 + 3 + 2 = 9."
   ]
  },
  {
   "cell_type": "code",
   "execution_count": 68,
   "metadata": {},
   "outputs": [
    {
     "name": "stdout",
     "output_type": "stream",
     "text": [
      "[(5, 9), (5, 2), (5, 8), (9, 5), (9, 2), (9, 8), (2, 5), (2, 9), (2, 8), (8, 5), (8, 9), (8, 2)]\n",
      "[(8, 2)]\n",
      "[4]\n",
      "[(5, 9), (5, 2), (5, 8), (9, 5), (9, 2), (9, 8), (2, 5), (2, 9), (2, 8), (8, 5), (8, 9), (8, 2)]\n",
      "[4]\n",
      "[(9, 4), (9, 7), (9, 3), (4, 9), (4, 7), (4, 3), (7, 9), (7, 4), (7, 3), (3, 9), (3, 4), (3, 7)]\n",
      "[3]\n",
      "[(3, 8), (3, 6), (3, 5), (8, 3), (8, 6), (8, 5), (6, 3), (6, 8), (6, 5), (5, 3), (5, 8), (5, 6)]\n",
      "[2]\n",
      "9\n"
     ]
    }
   ],
   "source": [
    "test_input = [['5', '9', '2', '8'], ['9', '4', '7', '3'], ['3', '8', '6', '5']]\n",
    "\n",
    "# let's try the brute force solution first\n",
    "res = []\n",
    "arr = list(map(int, ['5', '9', '2', '8']))\n",
    "\n",
    "# by creating permutations from the array\n",
    "perm = [i for i in permutations(arr, 2)]\n",
    "print(perm)\n",
    "\n",
    "# and then checking if the modulo remainder is 0, will give us the pair\n",
    "print([i for i in perm if i[0]%i[1]==0])\n",
    "\n",
    "# from which we can get the two numbers that are evenly divisible between each other\n",
    "print([i[0]//i[1] for i in perm if i[0]%i[1]==0])\n",
    "\n",
    "res = []\n",
    "for l in test_input:\n",
    "    p = [i for i in permutations(list(map(int, l)), 2)]\n",
    "    print(p)\n",
    "    print([i[0]//i[1] for i in p if i[0]%i[1]==0])\n",
    "    res.append([i[0]//i[1] for i in p if i[0]%i[1]==0][0])\n",
    "    \n",
    "print(sum(res))"
   ]
  },
  {
   "cell_type": "markdown",
   "metadata": {},
   "source": [
    "Let's run some tests to make sure we're not cutting corners here. Perhaps some optimisation is also due for the function."
   ]
  },
  {
   "cell_type": "code",
   "execution_count": 82,
   "metadata": {},
   "outputs": [
    {
     "data": {
      "text/plain": [
       "50"
      ]
     },
     "execution_count": 82,
     "metadata": {},
     "output_type": "execute_result"
    }
   ],
   "source": [
    "def corruption_checksum_2(lines):\n",
    "    return sum([i[0]//i[1] for i in permutations(list(map(int, l)), 2) if i[0]%i[1]==0][0] for l in lines)\n",
    "\n",
    "assert corruption_checksum_2(test_input) == 9\n",
    "assert corruption_checksum_2([['5', '9', '2', '8', '8']]) == 4\n",
    "assert corruption_checksum_2([['5', '9', '2', '8', '4']]) == 4\n",
    "assert corruption_checksum_2([['3', '1']]) == 3\n",
    "assert corruption_checksum_2([['30', '10']]) == 3\n",
    "assert corruption_checksum_2([['500', '10', '5']]) == 50"
   ]
  },
  {
   "cell_type": "code",
   "execution_count": 76,
   "metadata": {},
   "outputs": [
    {
     "data": {
      "text/plain": [
       "282"
      ]
     },
     "execution_count": 76,
     "metadata": {},
     "output_type": "execute_result"
    }
   ],
   "source": [
    "corruption_checksum_2(input_lines)"
   ]
  }
 ],
 "metadata": {
  "kernelspec": {
   "display_name": "Python 3",
   "language": "python",
   "name": "python3"
  },
  "language_info": {
   "codemirror_mode": {
    "name": "ipython",
    "version": 3
   },
   "file_extension": ".py",
   "mimetype": "text/x-python",
   "name": "python",
   "nbconvert_exporter": "python",
   "pygments_lexer": "ipython3",
   "version": "3.6.3"
  }
 },
 "nbformat": 4,
 "nbformat_minor": 2
}
